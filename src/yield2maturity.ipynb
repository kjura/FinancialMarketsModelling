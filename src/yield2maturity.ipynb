{
 "cells": [
  {
   "cell_type": "code",
   "execution_count": 59,
   "metadata": {
    "collapsed": true
   },
   "outputs": [
    {
     "data": {
      "text/plain": "102.531"
     },
     "execution_count": 59,
     "metadata": {},
     "output_type": "execute_result"
    }
   ],
   "source": [
    "import math\n",
    "\n",
    "\n",
    "\n",
    "# cbp function calculates current bond price, where T\n",
    "# is the maturity date, fvalue is a face value,\n",
    "# coupon_payment is an annual coupon payment and rate is a fixed interest bond(annual compounding)\n",
    "def cbp(T, fvalue, coupon_payment, rate):\n",
    "    b_0 = 0\n",
    "    t = 1\n",
    "    c_t = coupon_payment * fvalue\n",
    "    while t < T:\n",
    "        b_0 += c_t * math.pow(1 + rate, -t)\n",
    "        t += 1\n",
    "        if t == T:\n",
    "            c_T = fvalue + c_t\n",
    "            b_0 += c_T * math.pow(1 + rate, -t)\n",
    "            break\n",
    "\n",
    "    return round(b_0, 3)\n",
    "\n",
    "#cbp(3, 100, 0.1, 0.09)"
   ]
  },
  {
   "cell_type": "code",
   "execution_count": 1,
   "outputs": [],
   "source": [
    "\n",
    "#f = lambda x: 5*x - 15\n",
    "\n",
    "def bisec(f, a, b, i):\n",
    "\n",
    "    if f(a)*f(b) >= 0:\n",
    "        print(\"The functions on an interval [a, b] does not obey Intermediate Value Theorem, therefore I quit and return None\")\n",
    "        return None\n",
    "    for bism in range(1, i+1):\n",
    "        c = (a + b) / 2\n",
    "        #print(\"For Iteration number \", bism, \" the value of c is \", c,  \" the value of f(c) is \", f(c))\n",
    "\n",
    "        if f(c) == 0:\n",
    "            print(\"I have found a solution and it is \", c)\n",
    "            break\n",
    "        if f(a) * f(c) < 0:\n",
    "            b = c\n",
    "\n",
    "        if f(c) * f(b) < 0:\n",
    "            a = c\n",
    "\n",
    "\n",
    "#bisec(f, 2, 12, 150)"
   ],
   "metadata": {
    "collapsed": false,
    "pycharm": {
     "name": "#%%\n"
    }
   }
  },
  {
   "cell_type": "code",
   "execution_count": 3,
   "outputs": [],
   "source": [
    "#3 year bond\n",
    "# 100$ face value\n",
    "# annual coupon payment of 10%\n",
    "# interest rate with annual compounding is 9%\n",
    "\n",
    "def ytm(bondprice, T, fvalue, coupon_payment):\n",
    "\n",
    "    bot = 0\n",
    "    top = 1.0\n",
    "\n",
    "    print(cbp(T, fvalue, coupon_payment, top))\n",
    "\n",
    "    while cbp(T, fvalue, coupon_payment, top) > bondprice:\n",
    "        top = 2 * top\n",
    "        print(\"The value of top is \", top)\n",
    "\n",
    "    rate = (bot + top) / 2\n",
    "\n",
    "    for x in range(200):\n",
    "\n",
    "        root = cbp(T, fvalue, coupon_payment, rate) - bondprice\n",
    "\n",
    "        if root == 0:\n",
    "            print(\"I have found a solution and it is\", rate)\n",
    "        if root > 0.0:\n",
    "            bot = rate\n",
    "        if root < 0.0:\n",
    "            top = rate\n",
    "        rate = (bot + top) / 2\n",
    "    return rate\n",
    "\n",
    "#ytm(102.53, 3, 100, 0.1)\n",
    "\n",
    "\n",
    "\n",
    "\n",
    "\n",
    "\n",
    "\n",
    "\n",
    "\n",
    "\n",
    "\n",
    "\n"
   ],
   "metadata": {
    "collapsed": false,
    "pycharm": {
     "name": "#%%\n"
    }
   }
  }
 ],
 "metadata": {
  "kernelspec": {
   "display_name": "Python 3",
   "language": "python",
   "name": "python3"
  },
  "language_info": {
   "codemirror_mode": {
    "name": "ipython",
    "version": 2
   },
   "file_extension": ".py",
   "mimetype": "text/x-python",
   "name": "python",
   "nbconvert_exporter": "python",
   "pygments_lexer": "ipython2",
   "version": "2.7.6"
  }
 },
 "nbformat": 4,
 "nbformat_minor": 0
}
